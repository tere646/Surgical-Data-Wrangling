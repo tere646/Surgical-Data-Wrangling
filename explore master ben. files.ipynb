{
 "cells": [
  {
   "cell_type": "code",
   "execution_count": 1,
   "metadata": {},
   "outputs": [],
   "source": [
    "import pandas as pd"
   ]
  },
  {
   "cell_type": "code",
   "execution_count": 5,
   "metadata": {},
   "outputs": [],
   "source": [
    "one=pd.read_csv(\"master_2008_csv.csv\")"
   ]
  },
  {
   "cell_type": "code",
   "execution_count": null,
   "metadata": {},
   "outputs": [],
   "source": [
    "two=pd.read_csv(\"master_2009_csv.csv\")"
   ]
  },
  {
   "cell_type": "code",
   "execution_count": 6,
   "metadata": {},
   "outputs": [],
   "source": [
    "three=pd.read_csv(\"master_2010_csv.csv\")"
   ]
  },
  {
   "cell_type": "code",
   "execution_count": 7,
   "metadata": {},
   "outputs": [
    {
     "name": "stdout",
     "output_type": "stream",
     "text": [
      " The 2008 file has 6980568 rows.\n",
      " The 2009 file has 4082632 rows.\n",
      " The 2010 file has 4510196 rows.\n"
     ]
    }
   ],
   "source": [
    "print(' The 2008 file has ' + str(len(one)) + ' rows.')\n",
    "print(' The 2009 file has ' + str(len(two)) + ' rows.')\n",
    "print(' The 2010 file has ' + str(len(three)) + ' rows.')"
   ]
  },
  {
   "cell_type": "code",
   "execution_count": 8,
   "metadata": {},
   "outputs": [
    {
     "name": "stdout",
     "output_type": "stream",
     "text": [
      "<class 'pandas.core.frame.DataFrame'>\n",
      "RangeIndex: 6980568 entries, 0 to 6980567\n",
      "Data columns (total 32 columns):\n",
      " #   Column                    Dtype  \n",
      "---  ------                    -----  \n",
      " 0   DESYNPUF_ID               object \n",
      " 1   BENE_BIRTH_DT             int64  \n",
      " 2   BENE_DEATH_DT             float64\n",
      " 3   BENE_SEX_IDENT_CD         int64  \n",
      " 4   BENE_RACE_CD              int64  \n",
      " 5   BENE_ESRD_IND             object \n",
      " 6   SP_STATE_CODE             int64  \n",
      " 7   BENE_COUNTY_CD            int64  \n",
      " 8   BENE_HI_CVRAGE_TOT_MONS   int64  \n",
      " 9   BENE_SMI_CVRAGE_TOT_MONS  int64  \n",
      " 10  BENE_HMO_CVRAGE_TOT_MONS  int64  \n",
      " 11  PLAN_CVRG_MOS_NUM         int64  \n",
      " 12  SP_ALZHDMTA               int64  \n",
      " 13  SP_CHF                    int64  \n",
      " 14  SP_CHRNKIDN               int64  \n",
      " 15  SP_CNCR                   int64  \n",
      " 16  SP_COPD                   int64  \n",
      " 17  SP_DEPRESSN               int64  \n",
      " 18  SP_DIABETES               int64  \n",
      " 19  SP_ISCHMCHT               int64  \n",
      " 20  SP_OSTEOPRS               int64  \n",
      " 21  SP_RA_OA                  int64  \n",
      " 22  SP_STRKETIA               int64  \n",
      " 23  MEDREIMB_IP               float64\n",
      " 24  BENRES_IP                 float64\n",
      " 25  PPPYMT_IP                 float64\n",
      " 26  MEDREIMB_OP               float64\n",
      " 27  BENRES_OP                 float64\n",
      " 28  PPPYMT_OP                 float64\n",
      " 29  MEDREIMB_CAR              float64\n",
      " 30  BENRES_CAR                float64\n",
      " 31  PPPYMT_CAR                float64\n",
      "dtypes: float64(10), int64(20), object(2)\n",
      "memory usage: 1.7+ GB\n"
     ]
    }
   ],
   "source": [
    "one.info()"
   ]
  },
  {
   "cell_type": "code",
   "execution_count": 9,
   "metadata": {},
   "outputs": [
    {
     "name": "stdout",
     "output_type": "stream",
     "text": [
      "<class 'pandas.core.frame.DataFrame'>\n",
      "RangeIndex: 4082632 entries, 0 to 4082631\n",
      "Data columns (total 32 columns):\n",
      " #   Column                    Dtype  \n",
      "---  ------                    -----  \n",
      " 0   DESYNPUF_ID               object \n",
      " 1   BENE_BIRTH_DT             int64  \n",
      " 2   BENE_DEATH_DT             float64\n",
      " 3   BENE_SEX_IDENT_CD         int64  \n",
      " 4   BENE_RACE_CD              int64  \n",
      " 5   BENE_ESRD_IND             object \n",
      " 6   SP_STATE_CODE             int64  \n",
      " 7   BENE_COUNTY_CD            int64  \n",
      " 8   BENE_HI_CVRAGE_TOT_MONS   int64  \n",
      " 9   BENE_SMI_CVRAGE_TOT_MONS  int64  \n",
      " 10  BENE_HMO_CVRAGE_TOT_MONS  int64  \n",
      " 11  PLAN_CVRG_MOS_NUM         int64  \n",
      " 12  SP_ALZHDMTA               int64  \n",
      " 13  SP_CHF                    int64  \n",
      " 14  SP_CHRNKIDN               int64  \n",
      " 15  SP_CNCR                   int64  \n",
      " 16  SP_COPD                   int64  \n",
      " 17  SP_DEPRESSN               int64  \n",
      " 18  SP_DIABETES               int64  \n",
      " 19  SP_ISCHMCHT               int64  \n",
      " 20  SP_OSTEOPRS               int64  \n",
      " 21  SP_RA_OA                  int64  \n",
      " 22  SP_STRKETIA               int64  \n",
      " 23  MEDREIMB_IP               float64\n",
      " 24  BENRES_IP                 float64\n",
      " 25  PPPYMT_IP                 float64\n",
      " 26  MEDREIMB_OP               float64\n",
      " 27  BENRES_OP                 float64\n",
      " 28  PPPYMT_OP                 float64\n",
      " 29  MEDREIMB_CAR              float64\n",
      " 30  BENRES_CAR                float64\n",
      " 31  PPPYMT_CAR                float64\n",
      "dtypes: float64(10), int64(20), object(2)\n",
      "memory usage: 996.7+ MB\n"
     ]
    }
   ],
   "source": [
    "two.info()"
   ]
  },
  {
   "cell_type": "code",
   "execution_count": 10,
   "metadata": {},
   "outputs": [
    {
     "name": "stdout",
     "output_type": "stream",
     "text": [
      "<class 'pandas.core.frame.DataFrame'>\n",
      "RangeIndex: 4510196 entries, 0 to 4510195\n",
      "Data columns (total 32 columns):\n",
      " #   Column                    Dtype  \n",
      "---  ------                    -----  \n",
      " 0   DESYNPUF_ID               object \n",
      " 1   BENE_BIRTH_DT             int64  \n",
      " 2   BENE_DEATH_DT             float64\n",
      " 3   BENE_SEX_IDENT_CD         int64  \n",
      " 4   BENE_RACE_CD              int64  \n",
      " 5   BENE_ESRD_IND             object \n",
      " 6   SP_STATE_CODE             int64  \n",
      " 7   BENE_COUNTY_CD            int64  \n",
      " 8   BENE_HI_CVRAGE_TOT_MONS   int64  \n",
      " 9   BENE_SMI_CVRAGE_TOT_MONS  int64  \n",
      " 10  BENE_HMO_CVRAGE_TOT_MONS  int64  \n",
      " 11  PLAN_CVRG_MOS_NUM         int64  \n",
      " 12  SP_ALZHDMTA               int64  \n",
      " 13  SP_CHF                    int64  \n",
      " 14  SP_CHRNKIDN               int64  \n",
      " 15  SP_CNCR                   int64  \n",
      " 16  SP_COPD                   int64  \n",
      " 17  SP_DEPRESSN               int64  \n",
      " 18  SP_DIABETES               int64  \n",
      " 19  SP_ISCHMCHT               int64  \n",
      " 20  SP_OSTEOPRS               int64  \n",
      " 21  SP_RA_OA                  int64  \n",
      " 22  SP_STRKETIA               int64  \n",
      " 23  MEDREIMB_IP               float64\n",
      " 24  BENRES_IP                 float64\n",
      " 25  PPPYMT_IP                 float64\n",
      " 26  MEDREIMB_OP               float64\n",
      " 27  BENRES_OP                 float64\n",
      " 28  PPPYMT_OP                 float64\n",
      " 29  MEDREIMB_CAR              float64\n",
      " 30  BENRES_CAR                float64\n",
      " 31  PPPYMT_CAR                float64\n",
      "dtypes: float64(10), int64(20), object(2)\n",
      "memory usage: 1.1+ GB\n"
     ]
    }
   ],
   "source": [
    "three.info()"
   ]
  },
  {
   "cell_type": "code",
   "execution_count": null,
   "metadata": {},
   "outputs": [],
   "source": []
  }
 ],
 "metadata": {
  "kernelspec": {
   "display_name": "Python 3",
   "language": "python",
   "name": "python3"
  },
  "language_info": {
   "codemirror_mode": {
    "name": "ipython",
    "version": 3
   },
   "file_extension": ".py",
   "mimetype": "text/x-python",
   "name": "python",
   "nbconvert_exporter": "python",
   "pygments_lexer": "ipython3",
   "version": "3.8.3"
  }
 },
 "nbformat": 4,
 "nbformat_minor": 4
}
